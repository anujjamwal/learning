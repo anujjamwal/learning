{
 "cells": [
  {
   "cell_type": "markdown",
   "metadata": {},
   "source": [
    "# Lesson 1\n",
    "Introduction to learning"
   ]
  },
  {
   "cell_type": "markdown",
   "metadata": {},
   "source": [
    "Three Criterion for applying learning\n",
    "* Does a pattern exist\n",
    "* Is it mathematical\n",
    "* Do we have data on this"
   ]
  },
  {
   "cell_type": "markdown",
   "metadata": {},
   "source": [
    "### Learning Problem \n",
    "Learning problem involves a setup of \n",
    "* Input x\n",
    "* Output y\n",
    "* Target Function f : X -> Y\n",
    "\n",
    "x is a vector of d dimensions\n",
    "The goal of learning is to approximate the target function. We produce hypothesis function \n",
    "g : X -> Y\n",
    "\n",
    "A simple hypothesis function is linear hypothesis which approximates learning as hyperplane in d dimensions\n",
    "We assume a 'W' vector\n",
    "\n",
    "$$h(x) = \\sum_{i=1}^{i=d} w_i x_i$$ \n",
    "g(x) = +1 for h(x) > threshold\n",
    "g(x) = -1 for h(x) < threshold\n",
    "\n",
    "We can simplify this by assuming an element $$x_0 = 1$$, $$w_0 = \\text{threshold}$$\n",
    "$$h(x) = \\text{sign} (\\sum_{i=0}^{i=d} w_i x_i)$$"
   ]
  },
  {
   "cell_type": "markdown",
   "metadata": {},
   "source": [
    "### Perceptron Learning Algorithm.\n",
    "The Perceptron learning algorithm is used to decipher the correct values of w\n",
    "\n",
    "For iterations t = 0,1,2,...\n",
    "Pick a pair (x, y) which is misclassified and\n",
    "$$w(t) = w(t-1) + y_i x_i $$\n",
    "\n",
    "We will try to classify two digits in mnist dataset."
   ]
  },
  {
   "cell_type": "code",
   "execution_count": 1,
   "metadata": {
    "collapsed": true
   },
   "outputs": [],
   "source": [
    "import numpy as np\n",
    "import matplotlib.pylab as plt\n",
    "\n",
    "%matplotlib inline"
   ]
  },
  {
   "cell_type": "code",
   "execution_count": 2,
   "metadata": {
    "collapsed": true
   },
   "outputs": [],
   "source": [
    "from sklearn.datasets import fetch_mldata\n",
    "mnist = fetch_mldata('MNIST original', data_home='data')"
   ]
  },
  {
   "cell_type": "code",
   "execution_count": 3,
   "metadata": {
    "collapsed": true
   },
   "outputs": [],
   "source": [
    "X = np.concatenate((mnist.data[0:50], mnist.data[9000:9050]))\n",
    "Y = np.concatenate((mnist.target[0:50], mnist.target[9000:9050]))\n",
    "Y[Y != 0] = -1\n",
    "Y[Y == 0] = 1"
   ]
  },
  {
   "cell_type": "code",
   "execution_count": 4,
   "metadata": {
    "collapsed": false
   },
   "outputs": [],
   "source": [
    "w = np.random.rand(785)\n",
    "w_orig = w"
   ]
  },
  {
   "cell_type": "code",
   "execution_count": 5,
   "metadata": {
    "collapsed": true
   },
   "outputs": [],
   "source": [
    "def h(x):\n",
    "    v = np.dot(w, np.concatenate(([1], x)))\n",
    "    if v > 0:\n",
    "        return 1\n",
    "    else:\n",
    "        return -1"
   ]
  },
  {
   "cell_type": "code",
   "execution_count": 6,
   "metadata": {
    "collapsed": true
   },
   "outputs": [],
   "source": [
    "for _ in range(0, 10000):\n",
    "    for i in range(0, 100):\n",
    "        clas = h(X[i])\n",
    "        if clas != Y[i]:\n",
    "            w = w + Y[i] * np.concatenate(([1], X[i]))"
   ]
  },
  {
   "cell_type": "code",
   "execution_count": 7,
   "metadata": {
    "collapsed": false
   },
   "outputs": [],
   "source": [
    "def display(x, label):\n",
    "    pixels = x.reshape((28, 28))\n",
    "    plt.title('{label}'.format(label=label))\n",
    "    plt.imshow(pixels, cmap='gray')\n",
    "    plt.show()"
   ]
  },
  {
   "cell_type": "code",
   "execution_count": 8,
   "metadata": {
    "collapsed": false
   },
   "outputs": [
    {
     "data": {
      "image/png": "[encoded data removed]",
      "text/plain": [
       "<matplotlib.figure.Figure at 0x7f0b39133048>"
      ]
     },
     "metadata": {},
     "output_type": "display_data"
    }
   ],
   "source": [
    "display(X[99], \"predicted: %d\" % (h(X[99])))"
   ]
  },
  {
   "cell_type": "code",
   "execution_count": 9,
   "metadata": {
    "collapsed": false
   },
   "outputs": [
    {
     "data": {
      "image/png": "[encoded data removed]",
      "text/plain": [
       "<matplotlib.figure.Figure at 0x7f0b09b68320>"
      ]
     },
     "metadata": {},
     "output_type": "display_data"
    }
   ],
   "source": [
    "display(X[99], \"predicted: %d\" % (h(X[50])))"
   ]
  },
  {
   "cell_type": "code",
   "execution_count": 10,
   "metadata": {
    "collapsed": false
   },
   "outputs": [
    {
     "data": {
      "text/plain": [
       "'Accuracy 94 percent'"
      ]
     },
     "execution_count": 10,
     "metadata": {},
     "output_type": "execute_result"
    }
   ],
   "source": [
    "# Test Accuracy on 12000 inputs\n",
    "g = []\n",
    "for i in range(0,12000):\n",
    "    g.append(h(mnist.data[i]))\n",
    "G = np.array(g)\n",
    "accuracy = sum(mnist.target[0:12000] == G)\n",
    "'Accuracy %d percent' % (accuracy)"
   ]
  },
  {
   "cell_type": "code",
   "execution_count": 11,
   "metadata": {
    "collapsed": false
   },
   "outputs": [
    {
     "data": {
      "image/png": "[encoded data removed]",
      "text/plain": [
       "<matplotlib.figure.Figure at 0x7f0b09af8128>"
      ]
     },
     "metadata": {},
     "output_type": "display_data"
    }
   ],
   "source": [
    "display(mnist.data[1000], \"predicted: %d\" % (h(mnist.data[1000])))"
   ]
  },
  {
   "cell_type": "code",
   "execution_count": 12,
   "metadata": {
    "collapsed": false
   },
   "outputs": [
    {
     "data": {
      "image/png": "[encoded data removed]",
      "text/plain": [
       "<matplotlib.figure.Figure at 0x7f0b09a53dd8>"
      ]
     },
     "metadata": {},
     "output_type": "display_data"
    }
   ],
   "source": [
    "display(w[1:], \"Weight Map\")"
   ]
  },
  {
   "cell_type": "code",
   "execution_count": 13,
   "metadata": {
    "collapsed": false
   },
   "outputs": [
    {
     "data": {
      "text/plain": [
       "512"
      ]
     },
     "execution_count": 13,
     "metadata": {},
     "output_type": "execute_result"
    }
   ],
   "source": [
    "import os\n",
    "os.system('git add . &&')"
   ]
  }
 ],
 "metadata": {
  "kernelspec": {
   "display_name": "Python 3",
   "language": "python",
   "name": "python3"
  },
  "language_info": {
   "codemirror_mode": {
    "name": "ipython",
    "version": 3
   },
   "file_extension": ".py",
   "mimetype": "text/x-python",
   "name": "python",
   "nbconvert_exporter": "python",
   "pygments_lexer": "ipython3",
   "version": "3.6.0"
  }
 },
 "nbformat": 4,
 "nbformat_minor": 2
}
